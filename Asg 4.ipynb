{
 "cells": [
  {
   "cell_type": "code",
   "execution_count": 5,
   "id": "b402c65c-10a1-42c2-82a2-db867398e9e7",
   "metadata": {},
   "outputs": [
    {
     "name": "stdin",
     "output_type": "stream",
     "text": [
      "Is your mode LCM or GCF or Stop? Stop\n"
     ]
    }
   ],
   "source": [
    "#White a program that allows the users to choose between 2 modes: LCM and GCF.\n",
    "while True:\n",
    "    Mode = input('Is your mode LCM or GCF or Stop?') \n",
    "    if Mode == 'Stop':\n",
    "        break\n",
    "    if Mode not in ['GCF', 'LCM']: \n",
    "        print('Invalid Input')\n",
    "        continue\n",
    "    one = int(input('Pls, Provide your 1st number'))\n",
    "    two = int(input('Pls, Provide your 2nd number'))\n",
    "    greater = max(one, two)\n",
    "    less = min(one, two)\n",
    "\n",
    "    if Mode == 'GCF':\n",
    "        result = less\n",
    "        while result > 0:\n",
    "            if one % result == 0 and two % result == 0:\n",
    "                print(f\"The GCF is {result}\")\n",
    "                break\n",
    "            result -= 1\n",
    "\n",
    "    elif Mode == 'LCM':\n",
    "        LCM = greater\n",
    "        while True:\n",
    "            if LCM % one == 0 and LCM % two == 0:\n",
    "                print(f\"The LCM is {LCM}\")\n",
    "                break\n",
    "            LCM += 1"
   ]
  },
  {
   "cell_type": "code",
   "execution_count": 17,
   "id": "41b37cc9-c1f8-4b63-a8e0-8ed8e033a557",
   "metadata": {},
   "outputs": [
    {
     "name": "stdin",
     "output_type": "stream",
     "text": [
      "What letter do you want counted? e\n"
     ]
    },
    {
     "name": "stdout",
     "output_type": "stream",
     "text": [
      "# of times it appears in Bookone: 37\n",
      "# of times it appears in Booktwo: 20\n",
      "# of times it appears in Bookthree: 18\n",
      "# of times it appears in Bookfour: 99\n"
     ]
    }
   ],
   "source": [
    "#Write a program that takes two inputs: a passage of at least 200 characters, and a character. \n",
    "Bookone = \"Open here I flung the shutter, when, with many a flirt and flutter, In there stepped a stately Raven of the saintly days of yore; Not the least obeisance made he; not a minute stopped or stayed he; But, with mien of lord or lady, perched above my chamber door— Perched upon a bust of Pallas just above my chamber door— Perched, and sat, and nothing more.\"\n",
    "Booktwo = \"Some say the world will end in fire, Some say in ice. From what I’ve tasted of desire I hold with those who favor fire. But if it had to perish twice, I think I know enough of hate To say that for destruction ice Is also great And would suffice.\"\n",
    "Bookthree = \"Curtains forcing their will against the wind, children sleep, exchanging dreams with seraphim. The city drags itself awake on subway straps; and I, an alarm, awake as a rumor of war, lie stretching into dawn, unasked and unheeded.\"\n",
    "Bookfour = \"I’m thankful that my life doth not deceive Itself with a low loftiness, half height, And think it soars when still it dip its way Beneath the clouds on noiseless pinion Like the crow or owl, but it doth know The full extent of all its trivialness, Compared with the splendid heights above. See how it waits to watch the mail come in While ’hind its back the sun goes out perchance. And yet their lumbering cart brings me no word, Not one scrawled leaf such as my neighbors get To cheer them with the slight events forsooth, Faint ups and downs of their far distant friends— And now ’tis passed. What next? See the long train Of teams wreathed in dust, their atmosphere; Shall I attend until the last is passed? Else why these ears that hear the leader’s bells Or eyes that link me in procession? But hark! the drowsy day has done its task, Far in yon hazy field where stands a barn, Unanxious hens improve the sultry hour And with contented voice now brag their deed— A new laid egg—Now let the day decline— They’ll lay another by tomorrow’s sun.\"\n",
    "\n",
    "letter = input(\"What letter do you want counted?\")\n",
    "\n",
    "if len(Bookone) < 200:\n",
    "     print(\"Count requirement not reached, please enter another passage.\")             \n",
    "else:\n",
    "    Bookstore = Bookone.count(letter) \n",
    "if Bookstore == 0:\n",
    "            print(\"A Character is needed for Bookone\")\n",
    "else:\n",
    "            print(\"# of times it appears in Bookone:\", Bookstore)\n",
    "                   \n",
    "if len(Booktwo) < 200:\n",
    "     print(\"Count requirement not reached, please enter another passage.\")             \n",
    "else:\n",
    "        Bookstore = Booktwo.count(letter) \n",
    "if Bookstore == 0:\n",
    "            print(\"A Character is needed for Booketwo\")\n",
    "else:\n",
    "            print(\"# of times it appears in Booktwo:\", Bookstore) \n",
    "if len(Bookthree) < 200:\n",
    "             print(\"Count requirement not reached, please enter another passage.\")             \n",
    "else:\n",
    "                Bookstore = Bookthree.count(letter) \n",
    "if Bookstore == 0:\n",
    "                    print(\"A Character is needed for Bookthree\")\n",
    "else:\n",
    "                    print(\"# of times it appears in Bookthree:\", Bookstore) \n",
    "                \n",
    "if len(Bookfour) < 200:\n",
    "                     print(\"Count requirement not reached, please enter another passage.\")             \n",
    "else:\n",
    "                        Bookstore = Bookfour.count(letter) \n",
    "if Bookstore == 0:\n",
    "                            print(\"A Character is needed for Bookfour\")\n",
    "else:\n",
    "                            print(\"# of times it appears in Bookfour:\", Bookstore) \n",
    "\n",
    "\n"
   ]
  },
  {
   "cell_type": "code",
   "execution_count": null,
   "id": "68f12c97-6361-4ffb-9a54-d3b46c79c792",
   "metadata": {},
   "outputs": [],
   "source": []
  }
 ],
 "metadata": {
  "kernelspec": {
   "display_name": "Python 3 (ipykernel)",
   "language": "python",
   "name": "python3"
  },
  "language_info": {
   "codemirror_mode": {
    "name": "ipython",
    "version": 3
   },
   "file_extension": ".py",
   "mimetype": "text/x-python",
   "name": "python",
   "nbconvert_exporter": "python",
   "pygments_lexer": "ipython3",
   "version": "3.11.5"
  }
 },
 "nbformat": 4,
 "nbformat_minor": 5
}
